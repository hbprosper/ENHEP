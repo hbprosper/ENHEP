{
 "cells": [
  {
   "cell_type": "markdown",
   "metadata": {},
   "source": [
    "# Frequentist and Bayesian analyses of $H \\rightarrow ZZ \\rightarrow 4\\ell$ CMS Results\n",
    " >__Created__:  12 Mar. 2018, Bhubaneswar, India, Harrison B. Prosper\n",
    "\n",
    " >__Updated__:  22 January 2019, adapted for ENHEP 19, Egypt, HBP\n",
    "\n",
    "\n",
    "In 2014, the CMS Collaboration published a summary of its work on $H \\rightarrow ZZ \\rightarrow 4\\ell$ (Phys. Rev. __D89__, 092007 (2014)). When the 4-lepton mass is restricted to a narrow window around the Higgs boson mass, the experimental results are\n",
    "\n",
    "\\begin{align*}\n",
    "    N & = 25 \\textrm{ observed events}\\\\\n",
    "    B \\pm \\delta B & = 9.4 \\pm 0.5 \\textrm{ predicted background events}\n",
    "\\end{align*}\n",
    "\n",
    "We take the likelihood for $N$ to be \n",
    "\n",
    "$$p(N | s, b ) = (s + b)^N \\exp(-(s + b)) / N!.$$\n",
    "\n",
    "In order to write down a likelihood for the background, we shall use the ansatz\n",
    "\n",
    "\\begin{align*}\n",
    " B & = M / k,\\\\\n",
    " \\delta B & = \\sqrt{M} / k,\n",
    "\\end{align*}\n",
    "\n",
    "that is, we model the background estimate as a number obtained by scaling down a much larger count $M$ by a scale factor $k$. Therefore, the likelihood for the background is taken to be\n",
    "\n",
    "$$p(M | kb ) = (kb)^M \\exp(-kb) / M!.$$\n",
    "\n",
    "Solving for $M$ and $k$, we find\n",
    "\n",
    "\\begin{align*}\n",
    "    M & = 353.4 \\textrm{ events}\\\\\n",
    "    k & = 37.6.\n",
    "\\end{align*}\n",
    "\n",
    "The non-integral value for $M$ is taken into accout by writing $M! = \\Gamma(M + 1)$. The overall likelihood for the data $D = N, M, k$ is therefore\n",
    "\n",
    "$$\\boxed{ \\, \\, p(D | s, b ) = \\frac{(s + b)^N \\exp(-(s + b))}{N!} \\, \\frac{(kb)^M \\exp(-kb)}{\\Gamma(M+1)} \\, \\,}.$$\n",
    "\n",
    "The __parameter of interest__ is the mean signal count $s$, while $b$, the mean background, is an example of a __nuisance parameter__. A nuisance parameter is a parameter of the probability model that is needed to describe the model, but is not of intrinsic interest. In order to make inferences about the parameter (or parameters) of interest, all nuisance parameters must be removed from the model. This can be done in two ways: the nuisance parameters can be profiled away or they can be integrated out with respect to some prior density $\\pi(*)$. Note that since integration (i.e., __marginalization__) follows directly from the rules of probability theory, this method for removing nuisance parameters is natural in the Bayesian approach. Strictly speaking however, it is conceptually inconsistent within the frequentist approach because the notion of a probability density of a parameter does not exist within that  approach. Nevertheless, for pragmatic reasons, both integration and profiling are used in the frequentist approach.\n",
    "\n",
    "## Profiling\n",
    "\n",
    "In the method, nuisance parameters are removed by replacing them with their maximum likelihood estimates for a given values of the parameter of interest. Since replacing true values by estimates thereof is an approximation, the frequentist principle is not guaranteed to be satisfied exactly.\n",
    "\n",
    "In this example, the nuisance parameter $b$ in the likelihood is replaced by its maximum likelihood estimate, $\\hat{b} = f(s)$, of $b$ as a function of the mean signal $s$. We find,\n",
    "\n",
    "\\begin{align*}\n",
    "\\hat{b} = f(s) & = \\frac{g + \\sqrt{g^2 + 4 (1 + k) M s}}{2(1 + k)},\\textrm{ where}\\\\\n",
    "g & = N + M - (1 + k) s.\n",
    "\\end{align*}\n",
    "\n",
    "This procedure yields the profile likelihood $L_p(s) \\equiv p(D | s, f(s))$, which is then to be used as if it were a 1-parameter likelihood.\n",
    "\n",
    "## Marginalization (Integration)\n",
    "For simplicity, let's integrate over $b$ with a *flat* prior density given by $ \\pi(b) db = k db$, so that $k \\int_0^\\infty p(M | kb) \\, db = 1$, where the background likelihood is $p(M \\, | \\, kb) = (kb)^M \\exp(-kb) / \\Gamma(M+1)$.\n",
    "\n",
    "\\begin{eqnarray*}\n",
    "p(D | s) \t& =  & \\int_0^\\infty p(N | s, b ) \\, p(M | kb) \\, d (kb),\\\\\n",
    "\t\t& =  &  \\frac{k}{N! \\Gamma(M+1)} e^{-s} \\int_0^\\infty e^{-(1+\\kappa)b} (s + b)^N \\, (\\kappa b)^M \\, db \\\\\n",
    "        & = &  \\frac{k}{N! \\Gamma(M+1)} e^{-s} \\int_0^\\infty e^{-(1+\\kappa)b} \\left[ \\sum_{r=0}^N \\binom{N}{r} s^{N - r} \\, b^r \\right] \\, (\\kappa b)^M \\, db \\\\\n",
    "        & = &  \\frac{k}{\\Gamma(M+1)} \\sum_{r=0}^N e^{-s} \\frac{s^{N - r}}{(N - r)!} \\frac{1}{r!}\\int_0^\\infty e^{-(1+\\kappa)b} \\, b^{M + r} \\, \\kappa^M \\, db \\\\  \n",
    "        & = & k \\sum_{r=0}^N \\frac{\\kappa^M}{(1 + \\kappa)^{M + r + 1} \\, \\Gamma(M+1)} \\, \\textrm{Poisson}(N - r, s) \\frac{1}{r!} \\int_0^\\infty e^{-(1+\\kappa)b} [(1 + \\kappa)b]^{M + r} \\, d(1 + \\kappa)b \\\\  \n",
    "        & = & k \\sum_{r=0}^N \\frac{\\kappa^M}{(1 + \\kappa)^{M + r + 1} \\, \\Gamma(M+1)} \\, \\frac{\\Gamma(M + r + 1)}{r!} \\, \\textrm{Poisson}(N - r, s) ,\n",
    "\\end{eqnarray*}\n",
    "\\begin{eqnarray*}\n",
    "        & = & \\frac{k}{M}\\sum_{r=0}^N \\frac{\\kappa^M}{(1 + \\kappa)^{M + r + 1}} \\, \\frac{\\Gamma(M + r + 1)}{\\Gamma(M)\\Gamma(r+1)} \\, \\textrm{Poisson}(N - r, s) , \\\\\n",
    "\\textrm{let } x & = & \\frac{1}{1 +\\kappa} \\textrm{ and } 1 - x = \\frac{\\kappa}{1 + \\kappa}, \\textrm{ then} \\\\\n",
    "        & = & k \\frac{x(1 - x)}{M}\\sum_{r=0}^N  x^{r+1 - 1} \\, (1 - x)^{M - 1} \\, \\frac{\\Gamma(M + r + 1)}{\\Gamma(M)\\Gamma(r+1)} \\, \\textrm{Poisson}(N - r, s) , \\\\\n",
    "\t\t& = & \\frac{(1 - x)^2}{M} \\sum_{r=0}^N \\textrm{beta}(x, r + 1, M) \\, \\textrm{Poisson}(N - r, s). \n",
    "\\end{eqnarray*}\n",
    "\n",
    "We shall compute an interval\n",
    "$[l(N), u(N)]$ using the CMS $4$-lepton data, $N = 25$ events, $M = 353.4$, and $\\kappa = 37.6$ and assert that $s \\in [l(N), u(N)]$ with a confidence level of $p = 0.683$. The interpretation of the probability $p$ depends on which approach has been adopted, frequentist or Bayesian. In the former, $p$ is interpreted as the minimum fraction of statements of this form that are true in an infinite ensemble of statements, not necessarily about the same quantity. The lower and upper bounds of the interval are found by solving\n",
    "\\begin{align*}\n",
    "D_L(l) \t\t& = (1 - p)/2,\\\\\n",
    "D_R(u)\t  & = (1 - p)/2 = 1 - D_L(u),\\\\\n",
    "    D_L(u)& = (1 + p)/2,\n",
    "\\end{align*}\n",
    "where\n",
    "\\begin{align*}\n",
    "D_L(z) \t& =  \\int_0^z p(s | D) \\, ds,\\\\\n",
    "\t\t& =   \\sum_{r=0}^N \\textrm{beta}(x, r + 1, M) \\, P(N-r + 1, z) / \n",
    "\t\t\\sum_{r=0}^N \\textrm{beta}(x, r + 1, M),\n",
    "\\end{align*}"
   ]
  },
  {
   "cell_type": "markdown",
   "metadata": {},
   "source": [
    "### Import required modules\n",
    "\n",
    "| __modules__       | __description__  |\n",
    "| :---           | :--- |\n",
    "| pandas        | a versatile module for manipulating data, typically, loaded from csv files |\n",
    "| numpy         | the standard array manipulation and numerical module in Python      |\n",
    "| scipy         | the standard scientific tools module in Python    |\n",
    "| matplotlib    | a widely used plotting module for producing high quality plots |\n",
    "| pylab         | is embedded within matplotlib and provides Matlab-like features |\n"
   ]
  },
  {
   "cell_type": "code",
   "execution_count": 1,
   "metadata": {},
   "outputs": [],
   "source": [
    "import os, sys\n",
    "import pandas as pd\n",
    "import numpy as np\n",
    "\n",
    "import scipy as sp\n",
    "import scipy.stats as st\n",
    "import scipy.integrate as integrate\n",
    "\n",
    "import matplotlib as mp\n",
    "import matplotlib.pyplot as plt\n",
    "import pylab as pl\n",
    "\n",
    "# make plots appear inline\n",
    "%matplotlib inline"
   ]
  },
  {
   "cell_type": "code",
   "execution_count": 2,
   "metadata": {},
   "outputs": [],
   "source": [
    "# update fonts\n",
    "FONTSIZE = 18\n",
    "font = {'family' : 'sans-serif',\n",
    "        'weight' : 'normal',\n",
    "        'size'   : FONTSIZE}\n",
    "\n",
    "mp.rc('font', **font)"
   ]
  },
  {
   "cell_type": "markdown",
   "metadata": {},
   "source": [
    "### CMS $H \\rightarrow 4\\ell$ Results\n"
   ]
  },
  {
   "cell_type": "code",
   "execution_count": 3,
   "metadata": {},
   "outputs": [
    {
     "name": "stdout",
     "output_type": "stream",
     "text": [
      "Effective background count (M):            353.44\n",
      "Effective background scale factor (k):      37.60\n"
     ]
    }
   ],
   "source": [
    "N = 25\n",
    "B = 9.4\n",
    "dB= 0.5\n",
    "S = N - B\n",
    "M = (B / dB)**2\n",
    "k = M / B\n",
    "print \"Effective background count (M):        %10.2f\" % M\n",
    "print \"Effective background scale factor (k): %10.2f\" % k"
   ]
  },
  {
   "cell_type": "markdown",
   "metadata": {},
   "source": [
    "### Marginal (or Integrated) Likelihood\n",
    "\\begin{align*}\n",
    "p(D \\,| \\, s) & = \\frac{(1 - x)^2}{M} \\sum_{r=0}^N \\textrm{beta}(x, r + 1, M) \\, \\textrm{Poisson}(N - r, s). \n",
    "\\end{align*}\n",
    "\n",
    "Write __$p(D|s)$__ so that there can be an implied loop over $n$."
   ]
  },
  {
   "cell_type": "code",
   "execution_count": 4,
   "metadata": {},
   "outputs": [],
   "source": [
    "def pDs(N, M, k, s):\n",
    "    x = 1.0/(1 + k)\n",
    "    if type(N) == type(0):\n",
    "        r = np.arange(0, N+1)                     # create list r = [0, 1, ..., N]\n",
    "        beta = sp.stats.beta.pdf(x, r + 1, M)     # probability density function (pdf)\n",
    "        poisson = sp.stats.poisson.pmf(N - r, s)  # probability mass function (pmf)\n",
    "        p = (1 - x) * (1 - x) * sum(beta * poisson) / M\n",
    "        return p\n",
    "    else:\n",
    "        p = []\n",
    "        for n in N:\n",
    "            r = np.arange(0, n+1)\n",
    "            beta = sp.stats.beta.pdf(x, r + 1, M)\n",
    "            poisson = sp.stats.poisson.pmf(n - r, s)\n",
    "            p.append((1 - x) * (1 - x) * sum(beta * poisson) / M)\n",
    "        return np.array(p)"
   ]
  },
  {
   "cell_type": "markdown",
   "metadata": {},
   "source": [
    "### Profile Likelihood $L_p(s) = p(D | s, \\hat{b}= f(s))$\n",
    "Write __$L_p(s)$__ so that there can be an implied loop over $n$."
   ]
  },
  {
   "cell_type": "code",
   "execution_count": 5,
   "metadata": {},
   "outputs": [],
   "source": [
    "def Lp(N, M, k, s):\n",
    "    if type(N) == type(0):\n",
    "        g = N + M - (1+k)*s\n",
    "        b = g + np.sqrt(g*g+4*(1+k)*M*s)\n",
    "        b /= 2*(1+k)\n",
    "        # use gamma to compute Poisson since it can cope better with\n",
    "        # large counts.\n",
    "        p1 = sp.stats.gamma.pdf(s + b, N + 1)\n",
    "        p2 = sp.stats.gamma.pdf(k*b, M + 1)\n",
    "        return p1 * p2\n",
    "    else:\n",
    "        p = []\n",
    "        for n in N:\n",
    "            g = n + M - (1+k)*s\n",
    "            b = g + np.sqrt(g*g+4*(1+k)*M*s)\n",
    "            b /= 2*(1+k)\n",
    "            p1 = sp.stats.gamma.pdf(s + b, N + 1)\n",
    "            p2 = sp.stats.gamma.pdf(k*b, M + 1)\n",
    "            p.append(p1*p2)\n",
    "        return np.array(p)"
   ]
  },
  {
   "cell_type": "markdown",
   "metadata": {},
   "source": [
    "### Plot likelihoods\n",
    "Superimpose profile and marginal likelihoods."
   ]
  },
  {
   "cell_type": "code",
   "execution_count": 6,
   "metadata": {},
   "outputs": [],
   "source": [
    "def plotLikelihoods(Lp, pDs, N, M, k):\n",
    "    \n",
    "    # set size of figure\n",
    "    plt.figure(figsize=(8, 8))\n",
    "    \n",
    "    x  = np.arange(0, 40, 0.1) # x = [0, 0.1, ...]\n",
    "    \n",
    "    # compute likelihoods set max(L) = 1\n",
    "    y1 = [pDs(N, M, k, s) for s in x]; y1 = y1 / max(y1)\n",
    "    y2 = [Lp(N, M, k, s)  for s in x]; y2 = y2 / max(y2)\n",
    "    \n",
    "    # plot marginal likelihood \n",
    "    plt.plot(x, y1, \n",
    "             color=(0,0,1),\n",
    "             linewidth=1,\n",
    "             label=r'marginal')\n",
    "    # fill beneath the curve\n",
    "    plt.fill_between(x, y1, alpha=0.05, color=(0,0,1))\n",
    "    # add a legend with label given in plt.plot\n",
    "    pl.legend()\n",
    "    \n",
    "    # plot profile likelihood\n",
    "    plt.plot(x, y2, \n",
    "             color=(1,0,0),\n",
    "             linewidth=2,\n",
    "             label=r'profile') \n",
    "    pl.legend()\n",
    "       \n",
    "    # adjust y limits\n",
    "    axes = plt.gca()\n",
    "    ymin, ymax = axes.get_ylim()\n",
    "    delta = 0.2\n",
    "    ii = int(1.3*ymax/delta)\n",
    "    ymax = ii * delta\n",
    "    \n",
    "    axes.set_ylim((0, ymax))\n",
    "    axes.set_xlabel(r'$s$', fontsize=30)\n",
    "    axes.set_ylabel(r'$p(D|s)$', fontsize=30)\n",
    "    \n",
    "    plt.savefig(\"fig_profile_vs_marginal.png\")\n",
    "    plt.show()"
   ]
  },
  {
   "cell_type": "code",
   "execution_count": 7,
   "metadata": {},
   "outputs": [
    {
     "data": {
      "image/png": "[encoded data removed]",
      "text/plain": [
       "<matplotlib.figure.Figure at 0x1128952d0>"
      ]
     },
     "metadata": {},
     "output_type": "display_data"
    }
   ],
   "source": [
    "plotLikelihoods(Lp, pDs, N, M, k)"
   ]
  },
  {
   "cell_type": "markdown",
   "metadata": {},
   "source": [
    "### Compute $\\lambda(s) = L_P(s) / L_p(\\hat{s})$ and $t_\\textrm{obs}(s) = -2 \\ln \\lambda(s)$ for $s = 0$.\n",
    "\n",
    "Note that $0 < \\lambda(s) < 1$ and reaches its upper bound for $s = \\hat{s}$. In effect, $\\lambda(s)$ compares the likelihood of hypothesis $s$ to the hypothesis $\\hat{s}$ which agrees best with data."
   ]
  },
  {
   "cell_type": "code",
   "execution_count": 8,
   "metadata": {},
   "outputs": [
    {
     "name": "stdout",
     "output_type": "stream",
     "text": [
      "t_obs(0), Z =      17.05,       4.13\n"
     ]
    }
   ],
   "source": [
    "def t(N, M, k, S, s):\n",
    "    L0 = Lp(N, M, k, 0)\n",
    "    L1 = Lp(N, M, k, S)\n",
    "    t01= -2*np.log(L0/L1)\n",
    "    Z  = np.sqrt(t01)\n",
    "    return (t01, Z)\n",
    "print \"t_obs(0), Z = %10.2f, %10.2f\" % t(N, M, k, S, 0)"
   ]
  },
  {
   "cell_type": "markdown",
   "metadata": {},
   "source": [
    "### Compute p-value with and without inclusion of the background uncertainty "
   ]
  },
  {
   "cell_type": "code",
   "execution_count": 9,
   "metadata": {},
   "outputs": [],
   "source": [
    "def pvalue_noerror(N, B):\n",
    "    pv = sp.special.gammainc(N, B)\n",
    "    Z  = sp.special.erfinv(1-2*pv)*np.sqrt(2)\n",
    "    return (pv, Z)\n",
    "\n",
    "def pvalue(N, M, k):\n",
    "    n  = np.arange(0, N)\n",
    "    pv = 1 - sum(pDs(n, M, k, 0))\n",
    "    Z  = sp.special.erfinv(1-2*pv)*np.sqrt(2)\n",
    "    return (pv, Z)"
   ]
  },
  {
   "cell_type": "code",
   "execution_count": 10,
   "metadata": {},
   "outputs": [
    {
     "name": "stdout",
     "output_type": "stream",
     "text": [
      "p-value(no unc.),   Z =  1.759e-05,       4.14\n",
      "p-value(with unc.), Z =  2.532e-05,       4.05\n"
     ]
    }
   ],
   "source": [
    "pv0 = pvalue_noerror(N, B)\n",
    "pv1 = pvalue(N, M, k)\n",
    "print \"p-value(no unc.),   Z = %10.3e, %10.2f\" % pv0 \n",
    "print \"p-value(with unc.), Z = %10.3e, %10.2f\" % pv1 "
   ]
  },
  {
   "cell_type": "markdown",
   "metadata": {},
   "source": [
    "### Compute $D_L(z)$\n",
    "\\begin{align*}\n",
    "D_L(z) \t& =  \\int_0^z p(s | D) \\, ds,\\\\\n",
    "\t\t& =   \\sum_{r=0}^N \\textrm{beta}(x, r + 1, M) \\, P(N-r + 1, z) / \n",
    "\t\t\\sum_{r=0}^N \\textrm{beta}(x, r + 1, M),\n",
    "\\end{align*}"
   ]
  },
  {
   "cell_type": "code",
   "execution_count": 11,
   "metadata": {},
   "outputs": [],
   "source": [
    "def DL(z, N, M, k):\n",
    "    x = 1.0/(1 + k)\n",
    "    r = np.arange(0, N + 1)\n",
    "    beta = sp.stats.beta.pdf(x, r + 1, M)\n",
    "    igam = sp.special.gammainc(N - r + 1, z)\n",
    "    p = sum(beta * igam) / sum(beta)\n",
    "    return p\n",
    "\n",
    "def DR(z, N, M, k):\n",
    "    return 1 - DL(z, N, M, k)"
   ]
  },
  {
   "cell_type": "markdown",
   "metadata": {},
   "source": [
    "### Set up a root finder to find roots of \n",
    "\\begin{align*}\n",
    "    D_L(l) & = (1 - p)/2, \\\\\n",
    "    D_R(u) & = (1 - p)/2.\n",
    "\\end{align*}"
   ]
  },
  {
   "cell_type": "code",
   "execution_count": 12,
   "metadata": {},
   "outputs": [],
   "source": [
    "def findLimit(D, N, M, k, smin, smax, p):\n",
    "    def func(x):\n",
    "        return D(x, N, M, k) - (1 - p)/2\n",
    "    return sp.optimize.brenth(func, smin, smax)"
   ]
  },
  {
   "cell_type": "markdown",
   "metadata": {},
   "source": [
    "__Find lower bound $l(N)$__"
   ]
  },
  {
   "cell_type": "code",
   "execution_count": 13,
   "metadata": {},
   "outputs": [
    {
     "name": "stdout",
     "output_type": "stream",
     "text": [
      "lower bound l(25):      11.48\n"
     ]
    }
   ],
   "source": [
    "smin = 1.e-2  # avoid 0\n",
    "smax = S      # approximate location of peak of p(s|D)\n",
    "CL   = 0.683\n",
    "lN = findLimit(DL, N, M, k, smin, smax, CL)\n",
    "print \"lower bound l(%d): %10.2f\" % (N, lN)"
   ]
  },
  {
   "cell_type": "markdown",
   "metadata": {},
   "source": [
    "__Find upper bound $u(N)$__"
   ]
  },
  {
   "cell_type": "code",
   "execution_count": 14,
   "metadata": {},
   "outputs": [
    {
     "name": "stdout",
     "output_type": "stream",
     "text": [
      "upper bound u(25):      21.67\n"
     ]
    }
   ],
   "source": [
    "smin = S         # approximate location of peak of p(s|D)\n",
    "smax = 50\n",
    "uN = findLimit(DR, N, M, k, smin, smax, CL)\n",
    "print \"upper bound u(%d): %10.2f\" % (N, uN)"
   ]
  },
  {
   "cell_type": "markdown",
   "metadata": {},
   "source": [
    "### check lower and upper bounds\n",
    "Probability content should be 0.683"
   ]
  },
  {
   "cell_type": "code",
   "execution_count": 15,
   "metadata": {},
   "outputs": [
    {
     "name": "stdout",
     "output_type": "stream",
     "text": [
      "Probability content in interval [     11.48,      21.67] =      0.683\n"
     ]
    }
   ],
   "source": [
    "p, perr = integrate.quad(lambda x: pDs(N, M, k, x), lN, uN)\n",
    "print \"Probability content in interval [%10.2f, %10.2f] = %10.3f\" % (lN, uN, p)"
   ]
  },
  {
   "cell_type": "markdown",
   "metadata": {},
   "source": [
    "## Plot Posterior Density\n",
    " \n",
    "\\begin{eqnarray*}\n",
    "p(s \\, | \\, D) \t& = & \\frac{\\sum_{r=0}^N \\textrm{beta}(x, r + 1, M) \\, \\textrm{Poisson}(N - r, s)} { \n",
    "\\sum_{r=0}^N \\textrm{beta}(x, r + 1, M) }.\n",
    "\\end{eqnarray*}"
   ]
  },
  {
   "cell_type": "code",
   "execution_count": 16,
   "metadata": {},
   "outputs": [],
   "source": [
    "def psD(s, N, M, k):\n",
    "    x = 1.0/(1 + k)\n",
    "    r = np.arange(0, N + 1)\n",
    "    beta = sp.stats.beta.pdf(x, r + 1, M)\n",
    "    pois = sp.stats.gamma.pdf(s, N - r +1)\n",
    "    p = sum(beta*pois)/sum(beta)\n",
    "    return p"
   ]
  },
  {
   "cell_type": "code",
   "execution_count": 17,
   "metadata": {},
   "outputs": [
    {
     "name": "stdout",
     "output_type": "stream",
     "text": [
      "Bayes factor, Z:     4967.2,       4.13\n"
     ]
    }
   ],
   "source": [
    "pH1 = psD(S, N, M, k)\n",
    "pH0 = psD(0, N, M, k)\n",
    "B10 = pH1 / pH0\n",
    "Z   = np.sqrt(2*np.log(B10))\n",
    "print \"Bayes factor, Z: %10.1f, %10.2f\" % (B10, Z)"
   ]
  },
  {
   "cell_type": "code",
   "execution_count": 18,
   "metadata": {},
   "outputs": [],
   "source": [
    "def plotPost(psD, N, M, k, lN, uN):\n",
    "    \n",
    "    # set size of figure\n",
    "    plt.figure(figsize=(10, 8))\n",
    "    \n",
    "    x = np.arange(0, 40, 0.1)\n",
    "    y = [psD(z, N, M, k) for z in x]               \n",
    "    plt.plot(x, y, \n",
    "             color=(0,0,1),\n",
    "             linewidth=1,\n",
    "             label=r'marginal')\n",
    "    plt.fill_between(x, y, alpha=0.05, color=(0,0,1))\n",
    "    \n",
    "    # fill between [l(N), u(N)]\n",
    "    x = np.arange(lN, uN, 0.1)\n",
    "    y = [psD(z, N, M, k) for z in x]    \n",
    "    plt.fill_between(x, y, alpha=0.4, color=(0,1,0)) \n",
    "    \n",
    "    # adjust y limits\n",
    "    axes = plt.gca()\n",
    "    ymin, ymax = axes.get_ylim()\n",
    "    delta = 0.2\n",
    "    ii = int(1.3*ymax/delta)\n",
    "    ymax = ii * 0.2\n",
    "    #axes.set_ylim((0, ymax))\n",
    "    axes.set_xlabel(r'$s$', fontsize=30)\n",
    "    axes.set_ylabel(r'$p(s|D)$', fontsize=30)\n",
    "    plt.savefig(\"fig_posterior_density.png\")\n",
    "    plt.show()"
   ]
  },
  {
   "cell_type": "code",
   "execution_count": 19,
   "metadata": {},
   "outputs": [
    {
     "data": {
      "image/png": "[encoded data removed]",
      "text/plain": [
       "<matplotlib.figure.Figure at 0x112815450>"
      ]
     },
     "metadata": {},
     "output_type": "display_data"
    }
   ],
   "source": [
    "plotPost(psD, N, M, k, lN, uN)"
   ]
  },
  {
   "cell_type": "code",
   "execution_count": null,
   "metadata": {},
   "outputs": [],
   "source": []
  }
 ],
 "metadata": {
  "kernelspec": {
   "display_name": "Python 2",
   "language": "python",
   "name": "python2"
  },
  "language_info": {
   "codemirror_mode": {
    "name": "ipython",
    "version": 2
   },
   "file_extension": ".py",
   "mimetype": "text/x-python",
   "name": "python",
   "nbconvert_exporter": "python",
   "pygments_lexer": "ipython2",
   "version": "2.7.14"
  }
 },
 "nbformat": 4,
 "nbformat_minor": 1
}
