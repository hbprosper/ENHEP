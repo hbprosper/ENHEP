{
 "cells": [
  {
   "cell_type": "markdown",
   "metadata": {},
   "source": [
    "# Python, PyROOT, RooFit, Basics\n",
    " >__Created__:  25 June 2018 Harrison B. Prosper, ESHEP 18, Maratea, Italy\n",
    " \n",
    " \n",
    " This notebook gives a basic introduction to __Python__, __PyROOT__, __RooFit__, and __RooStats__. It is an implementation of Glen Cowan's exercise at INFN SOS 2013, Vietri sul Mare, Italy.\n",
    " \n",
    " ### Python Tips\n",
    "  * Python uses indentation to create program blocks.\n",
    "    Semicolons are not needed as in C++. It is therefore convenient to use\n",
    "    a Python-aware editor, such as __emacs__. This will help\n",
    "    minimize indentation errors.\n",
    "\n",
    "  * Python handles pointers for you! Use \".\" as in\n",
    "\n",
    "           TMath.Prob\n",
    "\n",
    "    instead of TMath::Prob\n",
    "\n",
    "  * There are two basic ways to load program modules into memory, e.g.:\n",
    "\n",
    "          import os\n",
    "    and\n",
    "          from string import replace\n",
    "          \n",
    "    Also note\n",
    "    \n",
    "          import numpy as np\n",
    "\n",
    "  * Strings can be initialized either with single or double quotes,\n",
    "    'ABC' or \"ABC\". This is useful when \"ABC\" needs to be embedded within\n",
    "    a string. Use \\ to continue strings across lines: \n",
    "\n",
    "            poem = 'You blocks you stones\\n'\\\n",
    "                   'You worse than senseless things'\n",
    "\n",
    "  * *WARNING*: Python uses __dynamic typing__, which means that the type of\n",
    "    a variable is detemined at runtime by its value. Consequently,\n",
    "    a variable's type is, well, variable!\n",
    "\n",
    "    x = 0     x is an integer\n",
    "    x = 0.0   x is now a float\n",
    "    x ='0'    x is now a string\n",
    "\n",
    "    Also (in Python 2.7.X) beware of\n",
    "\n",
    "    x = 42\n",
    "    y = x / 84\n",
    "\n",
    "    The answer will be y = 0 because x is an integer!\n",
    "\n",
    "  * Insert sys.exit() to stop program at any line. Useful for\n",
    "    debugging."
   ]
  },
  {
   "cell_type": "code",
   "execution_count": 1,
   "metadata": {},
   "outputs": [
    {
     "name": "stdout",
     "output_type": "stream",
     "text": [
      "Welcome to JupyROOT 6.14/06\n"
     ]
    }
   ],
   "source": [
    "import os, sys\n",
    "import ROOT\n",
    "# turn off ROOT use of javascript\n",
    "%jsroot off"
   ]
  },
  {
   "cell_type": "markdown",
   "metadata": {},
   "source": [
    "### Create a RooStats workspace"
   ]
  },
  {
   "cell_type": "code",
   "execution_count": 2,
   "metadata": {},
   "outputs": [
    {
     "name": "stdout",
     "output_type": "stream",
     "text": [
      "\n",
      "\u001b[1mRooFit v3.60 -- Developed by Wouter Verkerke and David Kirkby\u001b[0m \n",
      "                Copyright (C) 2000-2013 NIKHEF, University of California & Stanford University\n",
      "                All rights reserved, please read http://roofit.sourceforge.net/license.txt\n",
      "\n"
     ]
    }
   ],
   "source": [
    "# Suppress all messages except those that matter\n",
    "msgservice = ROOT.RooMsgService.instance()\n",
    "    \n",
    "# If a crash occurs, or things look strange,\n",
    "# comment out next line to find out more information about the problem.\n",
    "msgservice.setGlobalKillBelow(ROOT.RooFit.FATAL)\n",
    "\n",
    "# The most convenient way to use RooFit/RooStats is to \n",
    "# make a workspace so that we can use its factory method\n",
    "wspace = ROOT.RooWorkspace('RooFitTutorial')"
   ]
  },
  {
   "cell_type": "markdown",
   "metadata": {},
   "source": [
    "### Create parameters of double-exponential model"
   ]
  },
  {
   "cell_type": "code",
   "execution_count": 3,
   "metadata": {},
   "outputs": [],
   "source": [
    "# The observable is x and lies in the range [0, 20]\n",
    "xmin = 0.0 # note this is a float\n",
    "xmax =20.0 # and so is this\n",
    "\n",
    "# Use the factory method of the RooWorkspace object, just\n",
    "# created, to create an object called x that represents the\n",
    "# observable.\n",
    "# syntax:\n",
    "#        <name>[value, min-value, max-value]\n",
    "#\n",
    "# We are using Python's ability to write numbers into strings,\n",
    "# which is modeled on the semantics of C\n",
    "wspace.factory('x[0,%f,%f]' % (xmin, xmax))\n",
    "\n",
    "# Set the NUMBER OF BINS,\n",
    "# either for display purposes\n",
    "# or for the binned fit.\n",
    "M = 15 \n",
    "wspace.var('x').setBins(M)\n",
    "\n",
    "# Create the parameters of the model (a, b, c)\n",
    "wspace.factory('a[0.4, 0.0,   1.0]')\n",
    "wspace.factory('b[3.0, 0.01, 20.0]')\n",
    "wspace.factory('c[9.0, 0.01, 20.0]')\n",
    "parameters = ['a', 'b', 'c']\n",
    "\n",
    "# NUMBER OF PARAMETERS\n",
    "P = len(parameters)"
   ]
  },
  {
   "cell_type": "markdown",
   "metadata": {},
   "source": [
    "### Create probability model\n",
    "The model to be fitted, called *model*, is defined\n",
    " by a probability function (in this case, a density function (pdf)) of the form\n",
    "\n",
    "   $$p(x\\, |\\, a, b, c) = a \\, \\exp(-x \\, / \\, b)\\, / \\, b + (1 - a) \\, \\exp(-x\\, /v \\, c) \\, / \\, c.$$\n",
    "\n",
    "The syntax for creating a pdf, here a user-defined pdf using\n",
    "the RooStats class __RooGenericPdf__, is\n",
    "```c++\n",
    " GenericPdf::<user-defined-name>(\"<function>\", {...})\n",
    "```\n",
    " where we always drop the \"Roo\" prefix. \n",
    "#### Example\n",
    "```python\n",
    "  wspace.factory('GenericPdf::model(\"dbexp(x,a,b,c)\", {x,a,b,c})')\n",
    "```\n",
    " \n",
    " Note use of braces {..}\n",
    " in the above to specify a list of variables\n",
    " (modeled in RooFit by the __RooArgList__ class).\n",
    "\n",
    " __Tip__: The desired pdf can be coded as a C++\n",
    " function (with simple argument types, e.g., double and int arguments) compiled\n",
    " using, for example,\n",
    "```python\n",
    "  ROOT.gROOT.ProcessLine('.L <function>.cc+')\n",
    "```\n",
    "and made known to Python using\n",
    "```python\n",
    "  from ROOT import <function>\n",
    "```\n",
    "#### Example\n",
    "```python\n",
    "  ROOT.gROOT.ProcessLine('.L src/models.cc+')\n",
    "  from ROOT import dbexp\n",
    "```\n",
    "Root 6 uses a real compiler (rather than an interpreter), therefore,\n",
    " the syntax of your C++ code must conform to standard C++.\n",
    "\n",
    " If you need to make the compiler and linker happy by including\n",
    " headers and libraries beyond the default set provided by ROOT,\n",
    " first do\n",
    "```python\n",
    "   ROOT.gSystem.AddIncludePath('-I<path1> ...')\n",
    "   ROOT.gSystem.AddLinkedLibs('-L<libdir> -l<library> ...')\n",
    "```\n",
    " before calling gROOT.ProcessLine.\n",
    "\n",
    " Since the probability model is rather simple, we don't really have to use a C++ program! The model\n",
    " can be create directly as follows\n",
    "```python\n",
    " wspace.factory('GenericPdf::model'\\\n",
    "                '(\"a*exp(-x/b)/b + (1-a)*exp(-x/c)/c\",'\\\n",
    "                '{x,a,c,c})')\n",
    "```"
   ]
  },
  {
   "cell_type": "code",
   "execution_count": 4,
   "metadata": {},
   "outputs": [
    {
     "name": "stderr",
     "output_type": "stream",
     "text": [
      "Info in <TMacOSXSystem::ACLiC>: creating shared library /Users/harry/Talks/Talks 2019/ENHEP19/ENHEP/exercises/stats/./../../src/models_cc.so\n"
     ]
    }
   ],
   "source": [
    "ROOT.gROOT.ProcessLine('.L ../../src/models.cc+')\n",
    "from ROOT import dbexp\n",
    "wspace.factory('GenericPdf::model(\"dbexp(x,a,b,c)\", {x,a,b,c})'); # use \";\" to suppress listing of object"
   ]
  },
  {
   "cell_type": "markdown",
   "metadata": {},
   "source": [
    "So far, the \"model\" is known only to the RooFit workspace.\n",
    "Make the model known to Python also"
   ]
  },
  {
   "cell_type": "code",
   "execution_count": 5,
   "metadata": {},
   "outputs": [],
   "source": [
    "model = wspace.pdf('model')"
   ]
  },
  {
   "cell_type": "markdown",
   "metadata": {},
   "source": [
    "### Generate some data from the model"
   ]
  },
  {
   "cell_type": "code",
   "execution_count": 6,
   "metadata": {},
   "outputs": [],
   "source": [
    "# define the set obs = (x)\n",
    "wspace.defineSet('obs', 'x')\n",
    "\n",
    "# make the set obs known to Python\n",
    "obs  = wspace.set('obs')\n",
    "\n",
    "# generate data\n",
    "T = 400 # number of data to generate\n",
    "data = model.generate(obs, T)"
   ]
  },
  {
   "cell_type": "markdown",
   "metadata": {},
   "source": [
    "## Perform fit of model to $\\underline{unbinned}$ data"
   ]
  },
  {
   "cell_type": "code",
   "execution_count": 7,
   "metadata": {},
   "outputs": [
    {
     "name": "stdout",
     "output_type": "stream",
     "text": [
      "real time:      0.096 s\n",
      "\n",
      "  RooFitResult: minimized FCN value: 1019.82, estimated distance to minimum: 6.03575e-06\n",
      "                covariance matrix quality: Full, accurate covariance matrix\n",
      "                Status : MINIMIZE=0 HESSE=0 \n",
      "\n",
      "    Floating Parameter    FinalValue +/-  Error   \n",
      "  --------------------  --------------------------\n",
      "                     a    3.2206e-01 +/-  1.86e-01\n",
      "                     b    2.0294e+00 +/-  9.04e-01\n",
      "                     c    8.4086e+00 +/-  2.80e+00\n",
      "\n"
     ]
    }
   ],
   "source": [
    "swatch = ROOT.TStopwatch()\n",
    "swatch.Start()\n",
    "\n",
    "# If more control is needed, you can call RooMinuit\n",
    "# directly, which is an interface to Minuit.\n",
    "# Here, we are happy to use the simpler interface \"fitTo\".\n",
    "# Remember to save the results of the fit to a results object\n",
    "results = model.fitTo(data, ROOT.RooFit.Save(), ROOT.RooFit.PrintLevel(-1))\n",
    "print \"real time: %10.3f s\" % swatch.RealTime()\n",
    "\n",
    "# Let's see what we got\n",
    "results.Print()"
   ]
  },
  {
   "cell_type": "markdown",
   "metadata": {},
   "source": [
    "### Print correlation matrix"
   ]
  },
  {
   "cell_type": "code",
   "execution_count": 8,
   "metadata": {},
   "outputs": [
    {
     "name": "stdout",
     "output_type": "stream",
     "text": [
      "\tcorrelation matrix\n",
      "                    a          b          c\n",
      "a               1.000      0.926      0.924\n",
      "b               0.926      1.000      0.828\n",
      "c               0.924      0.828      1.000\n"
     ]
    }
   ],
   "source": [
    "print \"\\tcorrelation matrix\"\n",
    "print \"%10s\" % \"\",\n",
    "for v in parameters:\n",
    "    print \"%10s\" % v,\n",
    "print  # use this to print a newline character\n",
    "for v1 in parameters:\n",
    "    print \"%-10s\" % v1, # first print label and suppress a newline\n",
    "    for v2 in parameters:\n",
    "        cor = results.correlation(v1, v2)\n",
    "        print '%10.3f' % cor,\n",
    "    print # print a newline character\n"
   ]
  },
  {
   "cell_type": "markdown",
   "metadata": {},
   "source": [
    "### Plot using RooFit\n",
    "We wish to plot the distribution of the data and\n",
    " superimpose the fitted model as a function of the\n",
    " observable x.\n",
    " This is how RooFit makes plots, which unfortunately it is not as intuitive as it could have been!\n",
    "  \n",
    " In RooFit, one does proceeds as follows:\n",
    "  * create a frame pertaining to x (which we call xframe)\n",
    "  * set the frame's attributes, of which there are many\n",
    "  * tell the data to place a plot of themselves on xframe\n",
    "  * tell the model to place a plot of itself on xframe\n",
    "  * tell the model to place its parameters on xframe\n",
    "  * tell the xframe to draw itself on the active canvas\n",
    "  \n",
    "If you have trouble making the plot look exactly as you\n",
    " wish it to look, try drawing an empty Root histogram\n",
    " first in order to define the plotting area, then Draw\n",
    " xframe using the \"same\" option."
   ]
  },
  {
   "cell_type": "code",
   "execution_count": 9,
   "metadata": {},
   "outputs": [
    {
     "name": "stderr",
     "output_type": "stream",
     "text": [
      "Info in <TCanvas::Print>: png file ./fig_unbinnedFit.png has been created\n"
     ]
    },
    {
     "data": {
      "image/png": "[encoded data removed]",
      "text/plain": [
       "<IPython.core.display.Image object>"
      ]
     },
     "metadata": {},
     "output_type": "display_data"
    }
   ],
   "source": [
    "xframe = wspace.var('x').frame()\n",
    "xframe.SetMinimum(0)     # set minimum y-axis value \n",
    "xframe.SetMaximum(100)   # set maximum y-axis value\n",
    "data.plotOn(xframe)\n",
    "model.plotOn(xframe)\n",
    "model.paramOn(xframe)\n",
    "\n",
    "c1 = ROOT.TCanvas('fig_unbinnedFit', 'fit', 10, 10, 500, 500)\n",
    "xframe.Draw()\n",
    "c1.Draw()        # draw inline\n",
    "c1.SaveAs('.png')"
   ]
  },
  {
   "cell_type": "markdown",
   "metadata": {},
   "source": [
    "## Perform fit of model to $\\underline{binned}$ data\n",
    "\n",
    "Bin the data using __RooDataHist__.\n",
    "\n",
    "Note the use of the set __obs__, created above, to tell\n",
    "RooDataHist the variable(s) with respect to\n",
    "which the data are to be binned. The number of\n",
    "bins is obtained from the bin count attribute of \"x\"\n",
    "(see above)."
   ]
  },
  {
   "cell_type": "code",
   "execution_count": 10,
   "metadata": {},
   "outputs": [
    {
     "name": "stdout",
     "output_type": "stream",
     "text": [
      "DataStore hdata (binned data)\n",
      "  Contains 15 entries\n",
      "  Observables: \n",
      "    1)  x = 5.44215  L(0 - 20) B(15)  \"x\"\n",
      "Binned Dataset hdata (binned data)\n",
      "  Contains 15 bins with a total weight of 400\n",
      "  Observables:     1)  x = 5.44215  L(0 - 20) B(15)  \"x\"\n"
     ]
    }
   ],
   "source": [
    "hdata = ROOT.RooDataHist('hdata', 'binned data', obs)\n",
    "hdata.add(data)  # add the data to the RooDataHist and bin them\n",
    "hdata.Print('verbose')"
   ]
  },
  {
   "cell_type": "markdown",
   "metadata": {},
   "source": [
    "Do a multinomial fit to the binned data by\n",
    "turning off extended likelihood mode. If you\n",
    "want a multi-Poisson fit, change False to True.\n",
    "(If interested, ask what all this means!)"
   ]
  },
  {
   "cell_type": "code",
   "execution_count": 11,
   "metadata": {},
   "outputs": [
    {
     "name": "stdout",
     "output_type": "stream",
     "text": [
      "\n",
      "  RooFitResult: minimized FCN value: 1025.07, estimated distance to minimum: 0.000130318\n",
      "                covariance matrix quality: Full, accurate covariance matrix\n",
      "                Status : MINIMIZE=0 HESSE=0 \n",
      "\n",
      "    Floating Parameter    FinalValue +/-  Error   \n",
      "  --------------------  --------------------------\n",
      "                     a    3.9651e-01 +/-  2.36e-01\n",
      "                     b    2.5922e+00 +/-  1.05e+00\n",
      "                     c    9.2677e+00 +/-  4.21e+00\n",
      "\n"
     ]
    },
    {
     "name": "stderr",
     "output_type": "stream",
     "text": [
      "Info in <TCanvas::Print>: png file ./fig_binnedFit.png has been created\n"
     ]
    },
    {
     "data": {
      "image/png": "[encoded data removed]",
      "text/plain": [
       "<IPython.core.display.Image object>"
      ]
     },
     "metadata": {},
     "output_type": "display_data"
    }
   ],
   "source": [
    "results2 = model.fitTo(hdata,\n",
    "                       ROOT.RooFit.Save(),\n",
    "                       ROOT.RooFit.PrintLevel(-1), # silent\n",
    "                       ROOT.RooFit.Extended(False))\n",
    "results2.Print()\n",
    "\n",
    "# Plot results of fit on a different frame\n",
    "c2 = ROOT.TCanvas('fig_binnedFit', 'fit',\n",
    "             515, 10, 500, 500)\n",
    "\n",
    "xframe2 = wspace.var('x').frame()\n",
    "xframe2.SetMaximum(0)\n",
    "xframe2.SetMaximum(100)\n",
    "hdata.plotOn(xframe2)\n",
    "model.plotOn(xframe2)\n",
    "model.paramOn(xframe2)\n",
    "xframe2.Draw()\n",
    "c2.Draw() # draw inline\n",
    "c2.SaveAs('.png')"
   ]
  },
  {
   "cell_type": "markdown",
   "metadata": {},
   "source": [
    "## Do a bit of statistics\n",
    "\n",
    "We shall compute two __goodness-of-fit__ (gof) measures $X$ and $Y$.\n",
    "\n",
    "Since we have binned data, we need to create an\n",
    " integral to integrate the model over each x-bin\n",
    " so that we can compare the expected count in a given\n",
    " bin with the observed count in that bin.\n",
    " \n",
    "Our gof measures are\n",
    " \n",
    "  $$X = \\sum_{i=1}^M (N_i - n_i)^2 \\, / \\, n_i,$$\n",
    "  \n",
    "where \n",
    "\n",
    "$$n_i(\\theta) = \\int_{bin_i} \\, f(x, \\, \\theta) \\, dx ,$$\n",
    "\n",
    "with $f(x, \\, \\theta)$, $\\theta \\equiv a, b, c$, the model to be fitted,\n",
    "and \n",
    "\n",
    "\\begin{align*}\n",
    "        Y & = -2 \\ln \\, p({\\bf N} \\, | \\, {\\bf n}) \\, / \\, p({\\bf N} \\, | \\, \\hat{\\bf n}),\\\\\n",
    "        &= -2 \\ln \\, p({\\bf N} \\, | \\, {\\bf n}) \\, / \\, p({\\bf N} \\, | \\, {\\bf N}).\n",
    "\\end{align*}\n",
    "\n",
    "We take $p(N \\, | \\, n) = N! \\prod_{i=1}^M p_i^{N_i} / N_i!$ to be a multinomial likelihood with $p_i = n_i \\, / \\, \\sum_i n_i$; $N = \\sum_{i=1}^M  N_i$ is the sum of observed counts\n",
    " ${\\bf N} = N_1, \\cdots, N_M$ and ${\\bf n}(\\theta) = n_1, \\cdots, n_M$ are the (unknown) mean counts,\n",
    " which depend on the model parameters $\\theta$.\n",
    "\n",
    " Let $H_0$ be the hypothesis that $\\theta_0$ are the true values\n",
    " of the parameters $\\theta$. In practice, we approximate $\\theta_0$ by $\\hat{\\theta}$.\n",
    " According to Wilks' theorem (1938), the quantity $Y$ has\n",
    " (asymptotically) a $\\chi^2$ distribution of $M - P - 1$\n",
    " degrees of freedom, where\n",
    "   $M$ is the  number of bins\n",
    "   and $P$ is the number of fitted parameters. The number of degrees of freedom is reduced by one unit\n",
    "   because of the constraint $\\sum_{i=1}^M N_i = N$. We expect $X$ also to follow the same distribution\n",
    "   asymptotically.\n",
    "\n",
    "In order to implement the above, we proceed as follows.\n",
    " 1. Define the set of variables over which to\n",
    " normalize the integral\n",
    "```python\n",
    "    normSet = ROOT.RooFit.NormSet(obs) \n",
    "```\n",
    " 2. Define a range variable, call it x-bin, to\n",
    " represent the bin boundaries.\n",
    "```python\n",
    "    wspace.var('x').setRange('x-bin', xmin, xmax)\n",
    "```\n",
    " 3. Create integral\n",
    "```python\n",
    "    integral = model.createIntegral(obs, normSet, ROOT.RooFit.Range('x-bin'))\n",
    "```\n",
    "\n",
    "Then, \n",
    "```\n",
    "   loop over bins\n",
    "      compute integral over bin to obtain n_i\n",
    "      accumulate X and Y with the restriction that N_i > 5\n",
    "   compute p-value = Pr[X > X_obs]\n",
    "           p-value = Pr[Y > Y_obs]\n",
    "```\n"
   ]
  },
  {
   "cell_type": "code",
   "execution_count": 12,
   "metadata": {},
   "outputs": [
    {
     "name": "stdout",
     "output_type": "stream",
     "text": [
      "\n",
      "     \t    binlow count       mean\n",
      "    1\t     0.000   109      103.4\n",
      "    2\t     1.333    70       71.1\n",
      "    3\t     2.667    48       50.6\n",
      "    4\t     4.000    33       37.2\n",
      "    5\t     5.333    33       28.3\n",
      "    6\t     6.667    18       22.2\n",
      "    7\t     8.000    16       17.8\n",
      "    8\t     9.333    16       14.6\n",
      "    9\t    10.667    17       12.1\n",
      "   10\t    12.000     8       10.2\n",
      "   11\t    13.333     8        8.7\n",
      "   12\t    14.667     9        7.4\n",
      "   13\t    16.000     5        6.3\n",
      "   14\t    17.333     6        5.4\n",
      "   15\t    18.667     4        4.7\n",
      "================================================================================\n",
      "Int p(x|xi) dx = 400.0\n",
      "\n",
      "ChiSq/ndf =    6.0/10 (using X)\n",
      "p-value   =    0.8153\n",
      "\n",
      "ChiSq/ndf =    7.2/10 (using Y)\n",
      "p-value   =    0.7033\n"
     ]
    }
   ],
   "source": [
    "# 1. define integration variable\n",
    "normSet = ROOT.RooFit.NormSet(obs)\n",
    "\n",
    "# 2. define range variable\n",
    "wspace.var('x').setRange('x-bin', xmin, xmax)\n",
    "\n",
    "# 3. create integral\n",
    "integral = model.createIntegral(obs, normSet, ROOT.RooFit.Range('x-bin'))\n",
    "\n",
    "# Find bin width. Use float function to make sure we have\n",
    "# a float in the numerator to avoid truncation.\n",
    "dx = float(xmax-xmin)/M\n",
    "X  = 0.0\n",
    "Y  = 0.0\n",
    "total = 0.0 # to check the total integral (should be = T)\n",
    "print\n",
    "print \"%5s\\t%10s %5s %10s\" % ('', 'binlow', \"count\", \"mean\")\n",
    "\n",
    "# range(M) = [0, 1,...M-1]\n",
    "K = 0 # count number of bins with N_i > 5\n",
    "for ii in range(M):\n",
    "    # Get count in bin ii\n",
    "    # Yes, this is not as tidy as it could have been!\n",
    "    ibin = hdata.get(ii)   # get object that models iith bin\n",
    "    Ni   = hdata.weight()  # get bin content (count)\n",
    "\n",
    "    # Set the bin boundaries in our previously created\n",
    "    # range object\n",
    "    x = xmin + ii * dx\n",
    "    wspace.var('x').setRange('x-bin', x, x+dx)\n",
    "\n",
    "    # Compute the integral, with respect to x, over current\n",
    "    # bin and scale result by the total observed count. This\n",
    "    # gives us the mean count in current bin, evaluated at the\n",
    "    # best fit values of the parameters.\n",
    "    ni = T * integral.getVal()\n",
    "    print \"%5d\\t%10.3f %5d %10.1f\" % (ii+1, x, Ni, ni)\n",
    "\n",
    "    total += ni\n",
    "    if Ni < 5: continue\n",
    "\n",
    "    # Accumulate X and Y\n",
    "    K += 1\n",
    "    X += (Ni - ni)**2 / ni\n",
    "    Y += Ni * ROOT.TMath.Log(ni/Ni) \n",
    "\n",
    "# Complete calculation of Y\n",
    "Y *= -2\n",
    "\n",
    "# Assuming we are in asymptotia, compute\n",
    "#    p-value = Int_Y^infinity p(chi^2, ndf) dchi^2\n",
    "# where p(chi^2, ndf) is the chi2 density of ndf\n",
    "# degrees of freedom\n",
    "\n",
    "ndf    = K-P-1  # number of degrees of freedom\n",
    "\n",
    "if ndf > 0:\n",
    "    pvalueX = ROOT.TMath.Prob(X, ndf)\n",
    "    pvalueY = ROOT.TMath.Prob(Y, ndf)\n",
    "else:\n",
    "    pvalueX = 1.0\n",
    "    pvalueY = 1.0\n",
    "print \"=\"*80\n",
    "print \"Int p(x|xi) dx =%6.1f\\n\" % total\n",
    "\n",
    "print \"ChiSq/ndf = %6.1f/%d (using X)\" % (X, ndf)\n",
    "print \"p-value   = %9.4f\\n\" % pvalueX\n",
    "\n",
    "print \"ChiSq/ndf = %6.1f/%d (using Y)\" % (Y, ndf)\n",
    "print \"p-value   = %9.4f\" % pvalueY"
   ]
  },
  {
   "cell_type": "code",
   "execution_count": null,
   "metadata": {},
   "outputs": [],
   "source": []
  },
  {
   "cell_type": "code",
   "execution_count": null,
   "metadata": {},
   "outputs": [],
   "source": []
  }
 ],
 "metadata": {
  "kernelspec": {
   "display_name": "Python 2",
   "language": "python",
   "name": "python2"
  },
  "language_info": {
   "codemirror_mode": {
    "name": "ipython",
    "version": 2
   },
   "file_extension": ".py",
   "mimetype": "text/x-python",
   "name": "python",
   "nbconvert_exporter": "python",
   "pygments_lexer": "ipython2",
   "version": "2.7.14"
  }
 },
 "nbformat": 4,
 "nbformat_minor": 1
}
