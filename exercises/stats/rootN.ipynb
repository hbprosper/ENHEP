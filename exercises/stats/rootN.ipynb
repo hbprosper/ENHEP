{
 "cells": [
  {
   "cell_type": "markdown",
   "metadata": {},
   "source": [
    "# $N + \\sqrt{N}$ Upper Limits\n",
    " >__Created__:  29 Sep. 2017 Harrison B. Prosper\n",
    " \n",
    " >__Updated__:  29 Jun. 2019, adaped for ENHEP 19, HBP\n",
    "\n",
    "\n",
    "In this exercise, we shall determine the relative\n",
    "frequency with which statements of the form  $$N + \\sqrt{N} > \\theta,$$\n",
    "are true in an ensemble of 50,000 experiments, each associated with a _different_ mean count $\\theta$.\n",
    "We assume that each experiment yields a _single_ count $N$. Note that in the real world, unless the phenomenon being\n",
    "investigated does not exist - in which case the mean count is zero, it is highly unlikely that every\n",
    "experiment in a\n",
    "random collection of experiments would be associated with _exactly_ the same mean count. \n",
    "\n",
    "We shall simulate \n",
    " such an ensemble of experiments by \n",
    "sampling their _mean_ counts from a uniform distribution,\n",
    "$\\textrm{uniform}(0, b) = 1 \\, / \\, b$,\n",
    "with mean $b = 10$.  \n",
    "\n",
    "__TRandom3__ will be used to generate the sequences of random numbers.\n",
    "   * $N_\\textrm{exp}$ number of experiments\n",
    "   * $b$ range of uniform density\n",
    "   \n",
    "Each experiment obtains a count $N$. The statement $$N + \\sqrt{N} > \\theta,$$ is either _True_ of _False_, where $\\theta$ is the mean count for that experiment. In the real world, we typically do not know the mean count $\\theta$ associated with an experiment. However, in a simulated world we usually do. Therefore, we can determine whether or not each statement is true. In the limit of an infinitely large ensemble of experiments, the relative frequency with which statements of the form $N + \\sqrt{N} > \\theta$ are true is called the __coverage__ probability. \n",
    "\n",
    "Note that the coverage is a property of the *ensemble* to which the statements belong and *not* a property of any given statement. Consequently, if a given statement is regarded as being embedded in a different ensemble, then, in general, the coverage probability will change. This is an example of the *reference class problem*, the fact that probabilities depend on the ensemble to which a finite set of outcomes are presumed to belong. The point is that absolute probabilities do not exist; they are all conditional.\n",
    "\n",
    "__The Frequentist Principle__ The goal of frequentist analyses is to guarantee the following: over an (infinite) ensemble of statements, *which could be about different things*, a minimum fraction, CL, of these statements are true. The CL is called the __confidence level__. In 1937, Jerzy Neyman devised a procedure in which the CL is specified _a priori_. Consider statements of the form $x + \\sigma > \\mu$, where $\\mu$ is the mean of a Gaussian--which can vary from one  experiment to the next, and $\\sigma$ is the associated standard deviation. The coverage probability, as well as the confidence level, of such statements is 0.842.\n"
   ]
  },
  {
   "cell_type": "code",
   "execution_count": 2,
   "metadata": {},
   "outputs": [],
   "source": [
    "import os, sys\n",
    "import ROOT as rt\n",
    "%jsroot off"
   ]
  },
  {
   "cell_type": "code",
   "execution_count": 33,
   "metadata": {},
   "outputs": [],
   "source": [
    "Nexp = 50000  # number of experiments/statements\n",
    "b    = 3.0    # range of uniform distribution\n",
    "ran  = rt.TRandom3() # This has a cycle of 2^19937 - 1 ~ 10^6001"
   ]
  },
  {
   "cell_type": "markdown",
   "metadata": {},
   "source": [
    "__Model the experiments__\n",
    "\n",
    "In the following, we use a Python programming construct called __list comprehension__ to create one Python list from another. The syntax is\n",
    "```python\n",
    "    alist=[expression for loop expression involving a list]\n",
    "```\n"
   ]
  },
  {
   "cell_type": "code",
   "execution_count": 34,
   "metadata": {},
   "outputs": [],
   "source": [
    "def performExperiments(Nexp, b, ran):\n",
    "    from math import sqrt, exp\n",
    "    \n",
    "    # generate Nexp experiments,each with a different mean value\n",
    "    theta = [ ran.Uniform(0, b) for i in range(Nexp) ]\n",
    "    \n",
    "    # generate Nexp experimental outcomes\n",
    "    N  = [ ran.Poisson(mean) for mean in theta ]\n",
    "\n",
    "    # for each experiment compute an upper limit\n",
    "    U = [ x + sqrt(x) for x in N ] \n",
    "\n",
    "    return (theta, N, U)        "
   ]
  },
  {
   "cell_type": "code",
   "execution_count": 35,
   "metadata": {},
   "outputs": [
    {
     "name": "stdout",
     "output_type": "stream",
     "text": [
      "theta   3.00  0.49  0.85  2.84  0.69\n",
      "N       2.00  1.00  0.00  2.00  1.00\n",
      "U       3.41  2.00  0.00  3.41  2.00\n"
     ]
    }
   ],
   "source": [
    "theta, N, U = performExperiments(Nexp, b, ran)\n",
    "\n",
    "K   = 5\n",
    "fmt = ' %5.2f' * K\n",
    "print 'theta', fmt % tuple(theta[:K])\n",
    "print 'N    ', fmt % tuple(N[:K])\n",
    "print 'U    ', fmt % tuple(U[:K])"
   ]
  },
  {
   "cell_type": "markdown",
   "metadata": {},
   "source": [
    "__Analyze results of experiments__ \n",
    "\n",
    "Relative frequency $p = k \\, / \\, n$ with rough measure of uncertainty $\\sqrt{n p (1 - p)} \\, / \\, n$."
   ]
  },
  {
   "cell_type": "code",
   "execution_count": 36,
   "metadata": {},
   "outputs": [],
   "source": [
    "def computeCoverage(theta, U): \n",
    "    from math import sqrt\n",
    "    \n",
    "    # number of experiments\n",
    "    n = len(theta)\n",
    "    \n",
    "    # count number of true statements in ensemble\n",
    "    t  = [ u > t for (u, t) in zip(U, theta) ]\n",
    "    \n",
    "    # compute coverage (i.e., fraction of true statements)\n",
    "    k  = sum(t)\n",
    "    p  = float(k)/n\n",
    "    \n",
    "    # since we have k true statements our of n, this is a binomial\n",
    "    # problem with variance n*p*(1-p). Therefore, a rough estimate\n",
    "    # of the uncertainty in p is\n",
    "    dp = sqrt(n*p*(1-p))/n\n",
    "    \n",
    "    return (p, dp)"
   ]
  },
  {
   "cell_type": "code",
   "execution_count": 37,
   "metadata": {},
   "outputs": [
    {
     "name": "stdout",
     "output_type": "stream",
     "text": [
      "coverage:    0.612    0.002\n",
      "expected:    0.842\n"
     ]
    }
   ],
   "source": [
    "q = (1+0.683)/2\n",
    "results = computeCoverage(theta, U)\n",
    "print \"coverage: %8.3f %8.3f\" % results\n",
    "print \"expected: %8.3f\" % q"
   ]
  },
  {
   "cell_type": "code",
   "execution_count": null,
   "metadata": {},
   "outputs": [],
   "source": []
  },
  {
   "cell_type": "code",
   "execution_count": null,
   "metadata": {},
   "outputs": [],
   "source": []
  }
 ],
 "metadata": {
  "kernelspec": {
   "display_name": "Python 2",
   "language": "python",
   "name": "python2"
  },
  "language_info": {
   "codemirror_mode": {
    "name": "ipython",
    "version": 2
   },
   "file_extension": ".py",
   "mimetype": "text/x-python",
   "name": "python",
   "nbconvert_exporter": "python",
   "pygments_lexer": "ipython2",
   "version": "2.7.14"
  }
 },
 "nbformat": 4,
 "nbformat_minor": 1
}
